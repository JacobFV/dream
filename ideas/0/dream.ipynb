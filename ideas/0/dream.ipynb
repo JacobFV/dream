{
 "cells": [
  {
   "cell_type": "code",
   "execution_count": 1,
   "metadata": {},
   "outputs": [
    {
     "ename": "ModuleNotFoundError",
     "evalue": "jax requires jaxlib to be installed. See https://github.com/google/jax#installation for installation instructions.",
     "output_type": "error",
     "traceback": [
      "\u001b[0;31m---------------------------------------------------------------------------\u001b[0m",
      "\u001b[0;31mModuleNotFoundError\u001b[0m                       Traceback (most recent call last)",
      "File \u001b[0;32m~/anaconda3/envs/ai/lib/python3.8/site-packages/jax/_src/lib/__init__.py:45\u001b[0m, in \u001b[0;36m<module>\u001b[0;34m\u001b[0m\n\u001b[1;32m     44\u001b[0m \u001b[39mtry\u001b[39;00m:\n\u001b[0;32m---> 45\u001b[0m   \u001b[39mimport\u001b[39;00m \u001b[39mjaxlib\u001b[39;00m \u001b[39mas\u001b[39;00m \u001b[39mjaxlib\u001b[39;00m\n\u001b[1;32m     46\u001b[0m \u001b[39mexcept\u001b[39;00m \u001b[39mModuleNotFoundError\u001b[39;00m \u001b[39mas\u001b[39;00m err:\n",
      "\u001b[0;31mModuleNotFoundError\u001b[0m: No module named 'jaxlib'",
      "\nThe above exception was the direct cause of the following exception:\n",
      "\u001b[0;31mModuleNotFoundError\u001b[0m                       Traceback (most recent call last)",
      "\u001b[1;32mUntitled-1.ipynb Cell 1'\u001b[0m in \u001b[0;36m<cell line: 1>\u001b[0;34m()\u001b[0m\n\u001b[0;32m----> <a href='vscode-notebook-cell:Untitled-1.ipynb?jupyter-notebook#ch0000000untitled?line=0'>1</a>\u001b[0m \u001b[39mimport\u001b[39;00m \u001b[39mjax\u001b[39;00m\n\u001b[1;32m      <a href='vscode-notebook-cell:Untitled-1.ipynb?jupyter-notebook#ch0000000untitled?line=1'>2</a>\u001b[0m \u001b[39mimport\u001b[39;00m \u001b[39mjax\u001b[39;00m\u001b[39m.\u001b[39;00m\u001b[39mnumpy\u001b[39;00m \u001b[39mas\u001b[39;00m \u001b[39mjnp\u001b[39;00m\n",
      "File \u001b[0;32m~/anaconda3/envs/ai/lib/python3.8/site-packages/jax/__init__.py:35\u001b[0m, in \u001b[0;36m<module>\u001b[0;34m\u001b[0m\n\u001b[1;32m     30\u001b[0m \u001b[39mdel\u001b[39;00m _cloud_tpu_init\n\u001b[1;32m     32\u001b[0m \u001b[39m# Confusingly there are two things named \"config\": the module and the class.\u001b[39;00m\n\u001b[1;32m     33\u001b[0m \u001b[39m# We want the exported object to be the class, so we first import the module\u001b[39;00m\n\u001b[1;32m     34\u001b[0m \u001b[39m# to make sure a later import doesn't overwrite the class.\u001b[39;00m\n\u001b[0;32m---> 35\u001b[0m \u001b[39mfrom\u001b[39;00m \u001b[39mjax\u001b[39;00m \u001b[39mimport\u001b[39;00m config \u001b[39mas\u001b[39;00m _config_module\n\u001b[1;32m     36\u001b[0m \u001b[39mdel\u001b[39;00m _config_module\n\u001b[1;32m     38\u001b[0m \u001b[39mfrom\u001b[39;00m \u001b[39mjax\u001b[39;00m\u001b[39m.\u001b[39;00m\u001b[39m_src\u001b[39;00m\u001b[39m.\u001b[39;00m\u001b[39mconfig\u001b[39;00m \u001b[39mimport\u001b[39;00m (\n\u001b[1;32m     39\u001b[0m   config \u001b[39mas\u001b[39;00m config,\n\u001b[1;32m     40\u001b[0m   enable_checks \u001b[39mas\u001b[39;00m enable_checks,\n\u001b[0;32m   (...)\u001b[0m\n\u001b[1;32m     57\u001b[0m   transfer_guard_device_to_host \u001b[39mas\u001b[39;00m transfer_guard_device_to_host,\n\u001b[1;32m     58\u001b[0m )\n",
      "File \u001b[0;32m~/anaconda3/envs/ai/lib/python3.8/site-packages/jax/config.py:17\u001b[0m, in \u001b[0;36m<module>\u001b[0;34m\u001b[0m\n\u001b[1;32m      1\u001b[0m \u001b[39m# Copyright 2018 Google LLC\u001b[39;00m\n\u001b[1;32m      2\u001b[0m \u001b[39m#\u001b[39;00m\n\u001b[1;32m      3\u001b[0m \u001b[39m# Licensed under the Apache License, Version 2.0 (the \"License\");\u001b[39;00m\n\u001b[0;32m   (...)\u001b[0m\n\u001b[1;32m     14\u001b[0m \n\u001b[1;32m     15\u001b[0m \u001b[39m# TODO(phawkins): fix users of this alias and delete this file.\u001b[39;00m\n\u001b[0;32m---> 17\u001b[0m \u001b[39mfrom\u001b[39;00m \u001b[39mjax\u001b[39;00m\u001b[39m.\u001b[39;00m\u001b[39m_src\u001b[39;00m\u001b[39m.\u001b[39;00m\u001b[39mconfig\u001b[39;00m \u001b[39mimport\u001b[39;00m config\n",
      "File \u001b[0;32m~/anaconda3/envs/ai/lib/python3.8/site-packages/jax/_src/config.py:29\u001b[0m, in \u001b[0;36m<module>\u001b[0;34m\u001b[0m\n\u001b[1;32m     25\u001b[0m \u001b[39mimport\u001b[39;00m \u001b[39mwarnings\u001b[39;00m\n\u001b[1;32m     27\u001b[0m \u001b[39mfrom\u001b[39;00m \u001b[39mabsl\u001b[39;00m \u001b[39mimport\u001b[39;00m logging\n\u001b[0;32m---> 29\u001b[0m \u001b[39mfrom\u001b[39;00m \u001b[39mjax\u001b[39;00m\u001b[39m.\u001b[39;00m\u001b[39m_src\u001b[39;00m \u001b[39mimport\u001b[39;00m lib\n\u001b[1;32m     30\u001b[0m \u001b[39mfrom\u001b[39;00m \u001b[39mjax\u001b[39;00m\u001b[39m.\u001b[39;00m\u001b[39m_src\u001b[39;00m\u001b[39m.\u001b[39;00m\u001b[39mlib\u001b[39;00m \u001b[39mimport\u001b[39;00m jax_jit\n\u001b[1;32m     31\u001b[0m \u001b[39mfrom\u001b[39;00m \u001b[39mjax\u001b[39;00m\u001b[39m.\u001b[39;00m\u001b[39m_src\u001b[39;00m\u001b[39m.\u001b[39;00m\u001b[39mlib\u001b[39;00m \u001b[39mimport\u001b[39;00m transfer_guard_lib\n",
      "File \u001b[0;32m~/anaconda3/envs/ai/lib/python3.8/site-packages/jax/_src/lib/__init__.py:47\u001b[0m, in \u001b[0;36m<module>\u001b[0;34m\u001b[0m\n\u001b[1;32m     45\u001b[0m   \u001b[39mimport\u001b[39;00m \u001b[39mjaxlib\u001b[39;00m \u001b[39mas\u001b[39;00m \u001b[39mjaxlib\u001b[39;00m\n\u001b[1;32m     46\u001b[0m \u001b[39mexcept\u001b[39;00m \u001b[39mModuleNotFoundError\u001b[39;00m \u001b[39mas\u001b[39;00m err:\n\u001b[0;32m---> 47\u001b[0m   \u001b[39mraise\u001b[39;00m \u001b[39mModuleNotFoundError\u001b[39;00m(\n\u001b[1;32m     48\u001b[0m     \u001b[39m'\u001b[39m\u001b[39mjax requires jaxlib to be installed. See \u001b[39m\u001b[39m'\u001b[39m\n\u001b[1;32m     49\u001b[0m     \u001b[39m'\u001b[39m\u001b[39mhttps://github.com/google/jax#installation for installation instructions.\u001b[39m\u001b[39m'\u001b[39m\n\u001b[1;32m     50\u001b[0m     ) \u001b[39mfrom\u001b[39;00m \u001b[39merr\u001b[39;00m\n\u001b[1;32m     52\u001b[0m \u001b[39mimport\u001b[39;00m jax\u001b[39m.\u001b[39mversion\n\u001b[1;32m     53\u001b[0m \u001b[39mfrom\u001b[39;00m \u001b[39mjax\u001b[39;00m\u001b[39m.\u001b[39;00m\u001b[39mversion\u001b[39;00m \u001b[39mimport\u001b[39;00m _minimum_jaxlib_version \u001b[39mas\u001b[39;00m _minimum_jaxlib_version_str\n",
      "\u001b[0;31mModuleNotFoundError\u001b[0m: jax requires jaxlib to be installed. See https://github.com/google/jax#installation for installation instructions."
     ]
    }
   ],
   "source": [
    "import jax\n",
    "import jax.numpy as jnp"
   ]
  },
  {
   "cell_type": "markdown",
   "metadata": {},
   "source": [
    "Philosophy:\n",
    "\n",
    "- parametrize everything\n",
    "- prefer channeling all information through a single super-state, but it's okay to also supply direct\n",
    "- neural networks don't 'just work'. Put as many general priors into the architecture as you can."
   ]
  },
  {
   "cell_type": "markdown",
   "metadata": {},
   "source": [
    "modalities[t] = \n",
    "encodings[t] = each encoder's encoding (# encoders <> # inputs)\n",
    "decodings[t] = each decoder's decoding (# decoders <> # outputs)\n",
    "\n",
    "surprise[t] = divergence between pred_immediate[t-2] and immediate[t-1]\n",
    "rewards[t] = rewards[t-1],\n",
    "immediate_signals[t] = (\n",
    "\n",
    ")\n",
    "predicted_signal_forier_modes[t] = predict_signal_forier_modes(immediate_signals, state)\n",
    "past_signal_forier_modes[t] = past_signal_forier_modes[t-1],\n",
    "\n",
    "\n",
    "immediate[t] = (**encodings, **signals)\n",
    "state[t] = (immediate[t], stm[t], ltm[t])\n",
    "\n",
    "\n",
    "intrinsic_rewards = \n",
    "intrinsic_reward = sum(intrinsic_rewards)\n",
    "extrinsic_rewards = \n",
    "extrinsic_reward = sum(extrinsic_rewards)\n",
    "cumulative_reward\n",
    "rewards\n",
    "\n",
    "pred_immediate[t] = world_model(state[t])"
   ]
  },
  {
   "cell_type": "markdown",
   "metadata": {},
   "source": [
    "Architecture:\n",
    "\n",
    "- internal state $s = (i, stm, ltm, \\phi)$ where \n",
    "  - $i$ is an encoding of the immediate state, expressed in heterogenous modalities and shapes (but within a domain of supported differentiable structures)\n",
    "  - $\\phi$ represents hard-coded signals like each of the intrinsic reward component, \n",
    "  - $stm$ is differentiable short term memory, represented in a typed, directed multilayer graph. Some graphs may be used for storing images; other graphs might have words embeddings or generic embeddings. $stm$ is queried by performing message passing from the source graph(s) to a single-node. \n",
    "  - $ltm = (sem, epi)$ is non-differentiable long-term memory. The long term memory policy $\\pi_{ltm}(s_t) \\rightarrow \\{ 0 , 1 \\}$ decides when to commit information to LTM.\n",
    "    - $sem$ stores semantic long term memory. Each semantic long term memory is a snapshot of the short term memory. Snapshots are made \n",
    "    - $epi$ stores episodic long term memory. Episodes are internal state sequences $s_{:}$. Episodes can be generated from experience or dreaming. \n",
    "    - semantic long term memory and sensorimotor memory are also burned into the networks modules' parameters. \n",
    "- encoders (soft & hard) $enc(o_t, s_{t-1}) \\rightarrow i_t$. There may be multiple encoders for different modules. \n",
    "- decoders (soft & hard) $dec(s_t) \\rightarrow o^{'}_t$. Decoders are optionally used for training. Decoders do not necesarily correspond to encoders (eg, decoder w/o corresponding encoder, vice verse, more than one decoder).\n",
    "Not every encoder needs a decoder or vice/versa. \n",
    "- world model $\\mu(s_t) \\rightarrow i^{'}_{t+1}$\n",
    "- short term memory module ${stm}(i_t, s_{t-1}) \\rightarrow {stm}_t$\n",
    "- long term rememberer $\\pi_{ltm store}(i_t, )\n",
    "- mode-1 policy $\\pi_1(s_t) \\rightarrow a_t$\n",
    "- mode-2 policy $\\pi_2(s_t, \\mu) \\rightarrow a_t$\n",
    "- weighted set of intrinsic costs\n"
   ]
  },
  {
   "cell_type": "markdown",
   "metadata": {},
   "source": []
  },
  {
   "cell_type": "markdown",
   "metadata": {},
   "source": [
    "Intrinsic Objectives:\n",
    "\n",
    "- 'objectivity': $i_t$ reconstruction loss)\n",
    "- 'prediction' (prediction error miniminzation)\n",
    "- 'curiosity' (prediction error maximization)\n",
    "- 'autonomy'\n",
    "- \n",
    "- task-specific reward maximization (one of these is added for each task group)\n",
    "- task-agnostic reward maximization"
   ]
  },
  {
   "cell_type": "markdown",
   "metadata": {},
   "source": [
    "Training loop:\n",
    "\n",
    "- collect\n",
    "- train\n",
    "- imagine (dream): generate more trajectories to train on"
   ]
  },
  {
   "cell_type": "code",
   "execution_count": null,
   "metadata": {},
   "outputs": [],
   "source": []
  }
 ],
 "metadata": {
  "kernelspec": {
   "display_name": "Python 3.8.13 ('ai')",
   "language": "python",
   "name": "python3"
  },
  "language_info": {
   "codemirror_mode": {
    "name": "ipython",
    "version": 3
   },
   "file_extension": ".py",
   "mimetype": "text/x-python",
   "name": "python",
   "nbconvert_exporter": "python",
   "pygments_lexer": "ipython3",
   "version": "3.8.13"
  },
  "orig_nbformat": 4,
  "vscode": {
   "interpreter": {
    "hash": "605fe966a75bc2c3dfa708e269323e6491854b30a36f4e77953579e94649bfba"
   }
  }
 },
 "nbformat": 4,
 "nbformat_minor": 2
}
